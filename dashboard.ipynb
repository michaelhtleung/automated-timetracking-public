{
 "cells": [
  {
   "cell_type": "code",
   "execution_count": 55,
   "metadata": {},
   "outputs": [],
   "source": [
    "import pandas as pd\n",
    "import matplotlib.pyplot as plt\n",
    "import dateutil.parser"
   ]
  },
  {
   "cell_type": "code",
   "execution_count": 57,
   "metadata": {},
   "outputs": [],
   "source": [
    "dfs = []\n",
    "for day in range(1, 20):\n",
    "    if day < 10:\n",
    "        day = f'0{day}'\n",
    "    date = f'2020-09-{day}T00:00:00.csv'\n",
    "    df = pd.read_csv(f'./timetracking_data/{date}')\n",
    "\n",
    "    mask = (df['calendar'] == 'Health') & (df['summary'] == 'sleep')\n",
    "    dfs.append(df[mask])"
   ]
  },
  {
   "cell_type": "code",
   "execution_count": 58,
   "metadata": {},
   "outputs": [],
   "source": [
    "time_series = pd.concat(dfs)"
   ]
  },
  {
   "cell_type": "code",
   "execution_count": 59,
   "metadata": {},
   "outputs": [
    {
     "data": {
      "text/html": [
       "<div>\n",
       "<style scoped>\n",
       "    .dataframe tbody tr th:only-of-type {\n",
       "        vertical-align: middle;\n",
       "    }\n",
       "\n",
       "    .dataframe tbody tr th {\n",
       "        vertical-align: top;\n",
       "    }\n",
       "\n",
       "    .dataframe thead th {\n",
       "        text-align: right;\n",
       "    }\n",
       "</style>\n",
       "<table border=\"1\" class=\"dataframe\">\n",
       "  <thead>\n",
       "    <tr style=\"text-align: right;\">\n",
       "      <th></th>\n",
       "      <th>start</th>\n",
       "      <th>end</th>\n",
       "      <th>summary</th>\n",
       "      <th>calendar</th>\n",
       "    </tr>\n",
       "  </thead>\n",
       "  <tbody>\n",
       "    <tr>\n",
       "      <th>103</th>\n",
       "      <td>2020-09-01T01:15:00-04:00</td>\n",
       "      <td>2020-09-01T10:30:00-04:00</td>\n",
       "      <td>sleep</td>\n",
       "      <td>Health</td>\n",
       "    </tr>\n",
       "    <tr>\n",
       "      <th>108</th>\n",
       "      <td>2020-09-02T01:30:00-04:00</td>\n",
       "      <td>2020-09-02T09:00:00-04:00</td>\n",
       "      <td>sleep</td>\n",
       "      <td>Health</td>\n",
       "    </tr>\n",
       "    <tr>\n",
       "      <th>113</th>\n",
       "      <td>2020-09-03T06:15:00-04:00</td>\n",
       "      <td>2020-09-03T09:15:00-04:00</td>\n",
       "      <td>sleep</td>\n",
       "      <td>Health</td>\n",
       "    </tr>\n",
       "    <tr>\n",
       "      <th>116</th>\n",
       "      <td>2020-09-03T16:15:00-04:00</td>\n",
       "      <td>2020-09-03T21:45:00-04:00</td>\n",
       "      <td>sleep</td>\n",
       "      <td>Health</td>\n",
       "    </tr>\n",
       "    <tr>\n",
       "      <th>119</th>\n",
       "      <td>2020-09-04T07:45:00-04:00</td>\n",
       "      <td>2020-09-04T09:30:00-04:00</td>\n",
       "      <td>sleep</td>\n",
       "      <td>Health</td>\n",
       "    </tr>\n",
       "    <tr>\n",
       "      <th>...</th>\n",
       "      <td>...</td>\n",
       "      <td>...</td>\n",
       "      <td>...</td>\n",
       "      <td>...</td>\n",
       "    </tr>\n",
       "    <tr>\n",
       "      <th>33</th>\n",
       "      <td>2020-09-17T02:00:00-04:00</td>\n",
       "      <td>2020-09-17T11:15:00-04:00</td>\n",
       "      <td>sleep</td>\n",
       "      <td>Health</td>\n",
       "    </tr>\n",
       "    <tr>\n",
       "      <th>38</th>\n",
       "      <td>2020-09-18T04:30:00-04:00</td>\n",
       "      <td>2020-09-18T11:30:00-04:00</td>\n",
       "      <td>sleep</td>\n",
       "      <td>Health</td>\n",
       "    </tr>\n",
       "    <tr>\n",
       "      <th>20</th>\n",
       "      <td>2020-09-17T02:00:00-04:00</td>\n",
       "      <td>2020-09-17T11:15:00-04:00</td>\n",
       "      <td>sleep</td>\n",
       "      <td>Health</td>\n",
       "    </tr>\n",
       "    <tr>\n",
       "      <th>25</th>\n",
       "      <td>2020-09-18T04:30:00-04:00</td>\n",
       "      <td>2020-09-18T11:30:00-04:00</td>\n",
       "      <td>sleep</td>\n",
       "      <td>Health</td>\n",
       "    </tr>\n",
       "    <tr>\n",
       "      <th>12</th>\n",
       "      <td>2020-09-18T04:30:00-04:00</td>\n",
       "      <td>2020-09-18T11:30:00-04:00</td>\n",
       "      <td>sleep</td>\n",
       "      <td>Health</td>\n",
       "    </tr>\n",
       "  </tbody>\n",
       "</table>\n",
       "<p>158 rows × 4 columns</p>\n",
       "</div>"
      ],
      "text/plain": [
       "                         start                        end summary calendar\n",
       "103  2020-09-01T01:15:00-04:00  2020-09-01T10:30:00-04:00   sleep   Health\n",
       "108  2020-09-02T01:30:00-04:00  2020-09-02T09:00:00-04:00   sleep   Health\n",
       "113  2020-09-03T06:15:00-04:00  2020-09-03T09:15:00-04:00   sleep   Health\n",
       "116  2020-09-03T16:15:00-04:00  2020-09-03T21:45:00-04:00   sleep   Health\n",
       "119  2020-09-04T07:45:00-04:00  2020-09-04T09:30:00-04:00   sleep   Health\n",
       "..                         ...                        ...     ...      ...\n",
       "33   2020-09-17T02:00:00-04:00  2020-09-17T11:15:00-04:00   sleep   Health\n",
       "38   2020-09-18T04:30:00-04:00  2020-09-18T11:30:00-04:00   sleep   Health\n",
       "20   2020-09-17T02:00:00-04:00  2020-09-17T11:15:00-04:00   sleep   Health\n",
       "25   2020-09-18T04:30:00-04:00  2020-09-18T11:30:00-04:00   sleep   Health\n",
       "12   2020-09-18T04:30:00-04:00  2020-09-18T11:30:00-04:00   sleep   Health\n",
       "\n",
       "[158 rows x 4 columns]"
      ]
     },
     "execution_count": 59,
     "metadata": {},
     "output_type": "execute_result"
    }
   ],
   "source": [
    "time_series"
   ]
  },
  {
   "cell_type": "code",
   "execution_count": 60,
   "metadata": {},
   "outputs": [
    {
     "data": {
      "text/plain": [
       "103    2020-09-01T01:15:00-04:00\n",
       "108    2020-09-02T01:30:00-04:00\n",
       "113    2020-09-03T06:15:00-04:00\n",
       "116    2020-09-03T16:15:00-04:00\n",
       "119    2020-09-04T07:45:00-04:00\n",
       "                 ...            \n",
       "33     2020-09-17T02:00:00-04:00\n",
       "38     2020-09-18T04:30:00-04:00\n",
       "20     2020-09-17T02:00:00-04:00\n",
       "25     2020-09-18T04:30:00-04:00\n",
       "12     2020-09-18T04:30:00-04:00\n",
       "Name: start, Length: 158, dtype: object"
      ]
     },
     "execution_count": 60,
     "metadata": {},
     "output_type": "execute_result"
    }
   ],
   "source": [
    "time_series['start']"
   ]
  },
  {
   "cell_type": "code",
   "execution_count": 61,
   "metadata": {},
   "outputs": [
    {
     "data": {
      "text/plain": [
       "datetime.datetime(2020, 9, 10, 0, 0, tzinfo=tzoffset(None, -14400))"
      ]
     },
     "execution_count": 61,
     "metadata": {},
     "output_type": "execute_result"
    }
   ],
   "source": [
    "dateutil.parser.isoparse(time_series['start'][72])"
   ]
  },
  {
   "cell_type": "code",
   "execution_count": 62,
   "metadata": {},
   "outputs": [
    {
     "data": {
      "text/plain": [
       "10"
      ]
     },
     "execution_count": 62,
     "metadata": {},
     "output_type": "execute_result"
    }
   ],
   "source": [
    "dateutil.parser.isoparse(time_series['start'][72]).day"
   ]
  },
  {
   "cell_type": "code",
   "execution_count": 63,
   "metadata": {},
   "outputs": [
    {
     "data": {
      "text/plain": [
       "103     1\n",
       "108     2\n",
       "113     3\n",
       "116     3\n",
       "119     4\n",
       "       ..\n",
       "33     17\n",
       "38     18\n",
       "20     17\n",
       "25     18\n",
       "12     18\n",
       "Name: start, Length: 158, dtype: int64"
      ]
     },
     "execution_count": 63,
     "metadata": {},
     "output_type": "execute_result"
    }
   ],
   "source": [
    "time_series['start'].apply(lambda d: dateutil.parser.isoparse(d).day)"
   ]
  },
  {
   "cell_type": "code",
   "execution_count": 64,
   "metadata": {},
   "outputs": [],
   "source": [
    "start = time_series['start'].apply(lambda d: dateutil.parser.isoparse(d).hour + dateutil.parser.isoparse(d).minute/60.0)"
   ]
  },
  {
   "cell_type": "code",
   "execution_count": 79,
   "metadata": {},
   "outputs": [],
   "source": [
    "end = time_series['end'].apply(lambda d: dateutil.parser.isoparse(d).hour + dateutil.parser.isoparse(d).minute/60.0)"
   ]
  },
  {
   "cell_type": "code",
   "execution_count": 102,
   "metadata": {},
   "outputs": [],
   "source": [
    "# days = time_series['start'].apply(lambda d: dateutil.parser.isoparse(d).day)\n",
    "# days = time_series['start']\n",
    "days = time_series['start'].apply(lambda d: f'{dateutil.parser.isoparse(d).month}\\n{dateutil.parser.isoparse(d).day}')\n"
   ]
  },
  {
   "cell_type": "code",
   "execution_count": 98,
   "metadata": {},
   "outputs": [
    {
     "data": {
      "text/plain": [
       "<matplotlib.collections.PathCollection at 0x7fe8423b4eb0>"
      ]
     },
     "execution_count": 98,
     "metadata": {},
     "output_type": "execute_result"
    },
    {
     "data": {
      "image/png": "[encoded data removed]",
      "text/plain": [
       "<Figure size 432x288 with 1 Axes>"
      ]
     },
     "metadata": {
      "needs_background": "light"
     },
     "output_type": "display_data"
    }
   ],
   "source": [
    "plt.scatter(x=days, y=start)"
   ]
  },
  {
   "cell_type": "code",
   "execution_count": 99,
   "metadata": {},
   "outputs": [
    {
     "data": {
      "text/plain": [
       "<matplotlib.collections.PathCollection at 0x7fe8428eacd0>"
      ]
     },
     "execution_count": 99,
     "metadata": {},
     "output_type": "execute_result"
    },
    {
     "data": {
      "image/png": "[encoded data removed]",
      "text/plain": [
       "<Figure size 432x288 with 1 Axes>"
      ]
     },
     "metadata": {
      "needs_background": "light"
     },
     "output_type": "display_data"
    }
   ],
   "source": [
    "plt.scatter(x=days, y=end)"
   ]
  },
  {
   "cell_type": "code",
   "execution_count": 134,
   "metadata": {},
   "outputs": [
    {
     "data": {
      "text/plain": [
       "[<matplotlib.lines.Line2D at 0x7fe841e0f520>]"
      ]
     },
     "execution_count": 134,
     "metadata": {},
     "output_type": "execute_result"
    },
    {
     "data": {
      "image/png": "[encoded data removed]",
      "text/plain": [
       "<Figure size 432x288 with 1 Axes>"
      ]
     },
     "metadata": {
      "needs_background": "light"
     },
     "output_type": "display_data"
    }
   ],
   "source": [
    "plt.plot(list(days), list(end-start))"
   ]
  },
  {
   "cell_type": "code",
   "execution_count": 133,
   "metadata": {},
   "outputs": [
    {
     "data": {
      "text/plain": [
       "[9.25,\n",
       " 7.5,\n",
       " 3.0,\n",
       " 5.5,\n",
       " 1.75,\n",
       " 7.75,\n",
       " 9.25,\n",
       " 8.75,\n",
       " 7.75,\n",
       " 8.75,\n",
       " 8.75,\n",
       " 7.25,\n",
       " 8.75,\n",
       " 9.25,\n",
       " 9.0,\n",
       " 8.5,\n",
       " 9.25,\n",
       " 7.0,\n",
       " 7.5,\n",
       " 3.0,\n",
       " 5.5,\n",
       " 1.75,\n",
       " 7.75,\n",
       " 9.25,\n",
       " 8.75,\n",
       " 7.75,\n",
       " 8.75,\n",
       " 8.75,\n",
       " 7.25,\n",
       " 8.75,\n",
       " 9.25,\n",
       " 9.0,\n",
       " 8.5,\n",
       " 9.25,\n",
       " 7.0,\n",
       " 3.0,\n",
       " 5.5,\n",
       " 1.75,\n",
       " 7.75,\n",
       " 9.25,\n",
       " 8.75,\n",
       " 7.75,\n",
       " 8.75,\n",
       " 8.75,\n",
       " 7.25,\n",
       " 8.75,\n",
       " 9.25,\n",
       " 9.0,\n",
       " 8.5,\n",
       " 9.25,\n",
       " 7.0,\n",
       " 1.75,\n",
       " 7.75,\n",
       " 9.25,\n",
       " 8.75,\n",
       " 7.75,\n",
       " 8.75,\n",
       " 8.75,\n",
       " 7.25,\n",
       " 8.75,\n",
       " 9.25,\n",
       " 9.0,\n",
       " 8.5,\n",
       " 9.25,\n",
       " 7.0,\n",
       " 7.75,\n",
       " 9.25,\n",
       " 8.75,\n",
       " 7.75,\n",
       " 8.75,\n",
       " 8.75,\n",
       " 7.25,\n",
       " 8.75,\n",
       " 9.25,\n",
       " 9.0,\n",
       " 8.5,\n",
       " 9.25,\n",
       " 7.0,\n",
       " 9.25,\n",
       " 8.75,\n",
       " 7.75,\n",
       " 8.75,\n",
       " 8.75,\n",
       " 7.25,\n",
       " 8.75,\n",
       " 9.25,\n",
       " 9.0,\n",
       " 8.5,\n",
       " 9.25,\n",
       " 7.0,\n",
       " 8.75,\n",
       " 7.75,\n",
       " 8.75,\n",
       " 8.75,\n",
       " 7.25,\n",
       " 8.75,\n",
       " 9.25,\n",
       " 9.0,\n",
       " 8.5,\n",
       " 9.25,\n",
       " 7.0,\n",
       " 7.75,\n",
       " 8.75,\n",
       " 8.75,\n",
       " 7.25,\n",
       " 8.75,\n",
       " 9.25,\n",
       " 9.0,\n",
       " 8.5,\n",
       " 9.25,\n",
       " 7.0,\n",
       " 8.75,\n",
       " 8.75,\n",
       " 7.25,\n",
       " 8.75,\n",
       " 9.25,\n",
       " 9.0,\n",
       " 8.5,\n",
       " 9.25,\n",
       " 7.0,\n",
       " 8.75,\n",
       " 7.25,\n",
       " 8.75,\n",
       " 9.25,\n",
       " 9.0,\n",
       " 8.5,\n",
       " 9.25,\n",
       " 7.0,\n",
       " 7.25,\n",
       " 8.75,\n",
       " 9.25,\n",
       " 9.0,\n",
       " 8.5,\n",
       " 9.25,\n",
       " 7.0,\n",
       " 8.75,\n",
       " 9.25,\n",
       " 9.0,\n",
       " 8.5,\n",
       " 9.25,\n",
       " 7.0,\n",
       " 9.25,\n",
       " 9.0,\n",
       " 8.5,\n",
       " 9.25,\n",
       " 7.0,\n",
       " 9.0,\n",
       " 8.5,\n",
       " 9.25,\n",
       " 7.0,\n",
       " 8.5,\n",
       " 9.25,\n",
       " 7.0,\n",
       " 9.25,\n",
       " 7.0,\n",
       " 9.25,\n",
       " 7.0,\n",
       " 7.0]"
      ]
     },
     "execution_count": 133,
     "metadata": {},
     "output_type": "execute_result"
    }
   ],
   "source": [
    "list(end-start)"
   ]
  },
  {
   "cell_type": "code",
   "execution_count": 121,
   "metadata": {},
   "outputs": [
    {
     "data": {
      "text/plain": [
       "[<matplotlib.lines.Line2D at 0x7fe841ffd490>]"
      ]
     },
     "execution_count": 121,
     "metadata": {},
     "output_type": "execute_result"
    },
    {
     "data": {
      "image/png": "[encoded data removed]",
      "text/plain": [
       "<Figure size 432x288 with 1 Axes>"
      ]
     },
     "metadata": {
      "needs_background": "light"
     },
     "output_type": "display_data"
    }
   ],
   "source": [
    "plt.plot([x for x in range(10)], [x**2 for x in range(10)])"
   ]
  },
  {
   "cell_type": "code",
   "execution_count": 111,
   "metadata": {},
   "outputs": [
    {
     "data": {
      "text/plain": [
       "0       9\\n1\n",
       "1       9\\n2\n",
       "2       9\\n3\n",
       "3       9\\n3\n",
       "4       9\\n4\n",
       "       ...  \n",
       "153    9\\n17\n",
       "154    9\\n18\n",
       "155    9\\n17\n",
       "156    9\\n18\n",
       "157    9\\n18\n",
       "Name: start, Length: 158, dtype: object"
      ]
     },
     "execution_count": 111,
     "metadata": {},
     "output_type": "execute_result"
    }
   ],
   "source": [
    "days"
   ]
  },
  {
   "cell_type": "code",
   "execution_count": 112,
   "metadata": {},
   "outputs": [
    {
     "data": {
      "text/plain": [
       "0       1.25\n",
       "1       1.50\n",
       "2       6.25\n",
       "3      16.25\n",
       "4       7.75\n",
       "       ...  \n",
       "153     2.00\n",
       "154     4.50\n",
       "155     2.00\n",
       "156     4.50\n",
       "157     4.50\n",
       "Name: start, Length: 158, dtype: float64"
      ]
     },
     "execution_count": 112,
     "metadata": {},
     "output_type": "execute_result"
    }
   ],
   "source": [
    "start"
   ]
  },
  {
   "cell_type": "code",
   "execution_count": 107,
   "metadata": {},
   "outputs": [],
   "source": [
    "days.reset_index(drop=True, inplace=True) "
   ]
  },
  {
   "cell_type": "code",
   "execution_count": 108,
   "metadata": {},
   "outputs": [],
   "source": [
    "start.reset_index(drop=True, inplace=True) "
   ]
  },
  {
   "cell_type": "code",
   "execution_count": 109,
   "metadata": {},
   "outputs": [],
   "source": [
    "end.reset_index(drop=True, inplace=True) "
   ]
  }
 ],
 "metadata": {
  "kernelspec": {
   "display_name": "automated-timetracking",
   "language": "python",
   "name": "automated-timetracking"
  },
  "language_info": {
   "codemirror_mode": {
    "name": "ipython",
    "version": 3
   },
   "file_extension": ".py",
   "mimetype": "text/x-python",
   "name": "python",
   "nbconvert_exporter": "python",
   "pygments_lexer": "ipython3",
   "version": "3.8.2"
  },
  "varInspector": {
   "cols": {
    "lenName": 16,
    "lenType": 16,
    "lenVar": 40
   },
   "kernels_config": {
    "python": {
     "delete_cmd_postfix": "",
     "delete_cmd_prefix": "del ",
     "library": "var_list.py",
     "varRefreshCmd": "print(var_dic_list())"
    },
    "r": {
     "delete_cmd_postfix": ") ",
     "delete_cmd_prefix": "rm(",
     "library": "var_list.r",
     "varRefreshCmd": "cat(var_dic_list()) "
    }
   },
   "types_to_exclude": [
    "module",
    "function",
    "builtin_function_or_method",
    "instance",
    "_Feature"
   ],
   "window_display": false
  }
 },
 "nbformat": 4,
 "nbformat_minor": 2
}
